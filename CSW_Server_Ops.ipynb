{
 "cells": [
  {
   "cell_type": "code",
   "execution_count": 1,
   "metadata": {
    "collapsed": true
   },
   "outputs": [],
   "source": [
    "from owslib.csw import CatalogueServiceWeb"
   ]
  },
  {
   "cell_type": "code",
   "execution_count": 2,
   "metadata": {
    "collapsed": false
   },
   "outputs": [
    {
     "data": {
      "text/plain": [
       "'CSW'"
      ]
     },
     "execution_count": 2,
     "metadata": {},
     "output_type": "execute_result"
    }
   ],
   "source": [
    "csw = CatalogueServiceWeb('http://catalogue.aodn.org.au/geonetwork/srv/eng/csw')\n",
    "csw.identification.type"
   ]
  },
  {
   "cell_type": "code",
   "execution_count": 3,
   "metadata": {
    "collapsed": false
   },
   "outputs": [
    {
     "data": {
      "text/plain": [
       "{'matches': 236, 'nextrecord': 11, 'returned': 10}"
      ]
     },
     "execution_count": 3,
     "metadata": {},
     "output_type": "execute_result"
    }
   ],
   "source": [
    "csw.getrecords2(cql=\"csw:Title like '%WAMSI%'\")                                                                    \n",
    "csw.results"
   ]
  },
  {
   "cell_type": "code",
   "execution_count": 4,
   "metadata": {
    "collapsed": false
   },
   "outputs": [
    {
     "name": "stdout",
     "output_type": "stream",
     "text": [
      "Draft - WAMSI 2 - Kimberley Node - 1.4 - Remote sensing in support of marine environmental monitoring\n",
      "WAMSI 2 - Kimberley Node - 2.2.3 - Benthic community production and response to environmental forcing\n",
      "WAMSI Dredging Science Node: Theme 2/3.4 Development of a Numerical Dredging Model\n",
      "Wamsi Kimberley Research Node project 1.2.5 - Integrating Indigenous knowledge and survey techniques to develop a baseline for dugong (Dugong dugon) management\n",
      "WAMSI Node 1.2.2 - Rates of Ecological Processes (Kelp Consumption)\n",
      "WAMSI Node 1.2.1 - Rates of Ecological Processes (Growth Rates of Corals)\n",
      "WAMSI Node 2.2.5 - Projected future changes in the Leeuwin Current system\n",
      "WAMSI Node 1.1.2 - Coupled hydrodynamic and biogeochemical models\n",
      "WAMSI Node 1.1.3 - Abundance, Size and Biomass of Benthic Organisms (Chlorophyll data)\n",
      "WAMSI Node 1.1.3 - Rates of Ecological Processes (Kelp Production)\n"
     ]
    }
   ],
   "source": [
    "for rec in csw.records:\n",
    "    print(csw.records[rec].title)"
   ]
  },
  {
   "cell_type": "code",
   "execution_count": null,
   "metadata": {
    "collapsed": true
   },
   "outputs": [],
   "source": []
  }
 ],
 "metadata": {
  "kernelspec": {
   "display_name": "Python 2",
   "language": "python",
   "name": "python2"
  },
  "language_info": {
   "codemirror_mode": {
    "name": "ipython",
    "version": 2
   },
   "file_extension": ".py",
   "mimetype": "text/x-python",
   "name": "python",
   "nbconvert_exporter": "python",
   "pygments_lexer": "ipython2",
   "version": "2.7.12"
  }
 },
 "nbformat": 4,
 "nbformat_minor": 2
}
